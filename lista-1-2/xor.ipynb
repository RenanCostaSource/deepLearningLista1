{
 "cells": [
  {
   "cell_type": "code",
   "execution_count": 1,
   "id": "90653895",
   "metadata": {},
   "outputs": [],
   "source": [
    "import numpy as np"
   ]
  },
  {
   "cell_type": "code",
   "execution_count": 2,
   "id": "719e9503",
   "metadata": {},
   "outputs": [],
   "source": [
    "def sigmoid(x):\n",
    "\treturn 1.0/(1.0 + np.exp(-x))\n",
    "\n",
    "def sigmoid_der(x):\n",
    "\treturn x*(1.0 - x)\n"
   ]
  },
  {
   "cell_type": "code",
   "execution_count": 3,
   "id": "be3cce61",
   "metadata": {},
   "outputs": [],
   "source": [
    "class NN:\n",
    "    def __init__(self, inputs):\n",
    "        self.inputs = inputs\n",
    "        self.l=len(self.inputs)\n",
    "        self.li=len(self.inputs[0])\n",
    "        self.wi=np.random.random((self.li, self.l))\n",
    "        self.wh=np.random.random((self.l, 1))\n",
    "\n",
    "    def predict(self, inp):\n",
    "        s1=sigmoid(np.dot(inp, self.wi))\n",
    "        s2=sigmoid(np.dot(s1, self.wh))\n",
    "        return s2\n",
    "\n",
    "    def train(self, inputs,outputs, it):\n",
    "        for i in range(it):\n",
    "            l0=inputs\n",
    "            l1=sigmoid(np.dot(l0, self.wi))\n",
    "            l2=sigmoid(np.dot(l1, self.wh))\n",
    "            l2_err=outputs - l2\n",
    "            l2_delta = np.multiply(l2_err, sigmoid_der(l2))\n",
    "            l1_err=np.dot(l2_delta, self.wh.T)\n",
    "            l1_delta=np.multiply(l1_err, sigmoid_der(l1))\n",
    "            self.wh+=np.dot(l1.T, l2_delta)\n",
    "            self.wi+=np.dot(l0.T, l1_delta)"
   ]
  },
  {
   "cell_type": "code",
   "execution_count": 4,
   "id": "32490b9b",
   "metadata": {},
   "outputs": [],
   "source": [
    "inputs=np.array([[0.1,0.1], [0.1,1.1], [1.1,0.0], [1.1,1.1] ])\n",
    "outputs=np.array([ [0], [1],[1],[0] ])"
   ]
  },
  {
   "cell_type": "code",
   "execution_count": 5,
   "id": "05d492e2",
   "metadata": {},
   "outputs": [
    {
     "data": {
      "text/plain": [
       "array([[0.79033984],\n",
       "       [0.84094325],\n",
       "       [0.82070941],\n",
       "       [0.86489648]])"
      ]
     },
     "execution_count": 5,
     "metadata": {},
     "output_type": "execute_result"
    }
   ],
   "source": [
    "n=NN(inputs)\n",
    "n.predict(inputs)"
   ]
  },
  {
   "cell_type": "code",
   "execution_count": 6,
   "id": "f8761d13",
   "metadata": {},
   "outputs": [
    {
     "data": {
      "text/plain": [
       "array([[0.01695659],\n",
       "       [0.98367841],\n",
       "       [0.98334581],\n",
       "       [0.01411782]])"
      ]
     },
     "execution_count": 6,
     "metadata": {},
     "output_type": "execute_result"
    }
   ],
   "source": [
    "n.train(inputs, outputs, 10000)\n",
    "n.predict(inputs)"
   ]
  }
 ],
 "metadata": {
  "kernelspec": {
   "display_name": "Python 3 (ipykernel)",
   "language": "python",
   "name": "python3"
  },
  "language_info": {
   "codemirror_mode": {
    "name": "ipython",
    "version": 3
   },
   "file_extension": ".py",
   "mimetype": "text/x-python",
   "name": "python",
   "nbconvert_exporter": "python",
   "pygments_lexer": "ipython3",
   "version": "3.9.7"
  }
 },
 "nbformat": 4,
 "nbformat_minor": 5
}
