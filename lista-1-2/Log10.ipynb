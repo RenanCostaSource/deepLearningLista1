{
 "cells": [
  {
   "cell_type": "code",
   "execution_count": 1,
   "id": "8c963aaf",
   "metadata": {},
   "outputs": [],
   "source": [
    "import numpy as np\n",
    "import math\n",
    "import random\n",
    "import matplotlib.pyplot as plt\n",
    "import tensorflow\n",
    "from tensorflow.keras.models import Sequential\n",
    "from tensorflow.keras.layers import Dense\n",
    "from tensorflow.keras.utils import to_categorical"
   ]
  },
  {
   "cell_type": "code",
   "execution_count": 2,
   "id": "f8227514",
   "metadata": {},
   "outputs": [],
   "source": [
    "inputs=[]\n",
    "outputs=[]\n",
    "dataSize = 5000\n",
    "for i in range(dataSize):\n",
    "        x = random.uniform(1, 10)\n",
    "        inputs.append([x])\n",
    "        outputs.append([math.log(x, 10)])\n",
    "trainingSet = np.array(inputs[:math.floor(len(inputs)*0.8)])\n",
    "trainingLabels = np.array(outputs[:math.floor(len(outputs)*0.8)])\n",
    "testingSet = np.array(inputs[math.floor(len(inputs)*0.8):])\n",
    "testingLabels = np.array(outputs[math.floor(len(outputs)*0.8):])"
   ]
  },
  {
   "cell_type": "code",
   "execution_count": 3,
   "id": "70bf87bb",
   "metadata": {},
   "outputs": [
    {
     "name": "stdout",
     "output_type": "stream",
     "text": [
      "Model: \"sequential\"\n",
      "_________________________________________________________________\n",
      " Layer (type)                Output Shape              Param #   \n",
      "=================================================================\n",
      " dense (Dense)               (None, 2)                 4         \n",
      "                                                                 \n",
      " dense_1 (Dense)             (None, 1)                 3         \n",
      "                                                                 \n",
      "=================================================================\n",
      "Total params: 7\n",
      "Trainable params: 7\n",
      "Non-trainable params: 0\n",
      "_________________________________________________________________\n"
     ]
    }
   ],
   "source": [
    "model = Sequential()\n",
    "model.add(Dense(2, input_shape=(1,), kernel_initializer='normal', activation='sigmoid'))\n",
    "model.add(Dense(1, activation='linear', kernel_initializer='normal'))\n",
    "model.summary()"
   ]
  },
  {
   "cell_type": "code",
   "execution_count": 4,
   "id": "0155cb98",
   "metadata": {},
   "outputs": [
    {
     "name": "stdout",
     "output_type": "stream",
     "text": [
      "Epoch 1/20\n",
      "800/800 [==============================] - 1s 647us/step - loss: 0.1266 - mean_squared_error: 0.1266\n",
      "Epoch 2/20\n",
      "800/800 [==============================] - 1s 633us/step - loss: 0.0305 - mean_squared_error: 0.0305\n",
      "Epoch 3/20\n",
      "800/800 [==============================] - 1s 646us/step - loss: 0.0166 - mean_squared_error: 0.0166\n",
      "Epoch 4/20\n",
      "800/800 [==============================] - 1s 668us/step - loss: 0.0061 - mean_squared_error: 0.0061\n",
      "Epoch 5/20\n",
      "800/800 [==============================] - 1s 714us/step - loss: 0.0021 - mean_squared_error: 0.0021\n",
      "Epoch 6/20\n",
      "800/800 [==============================] - 1s 630us/step - loss: 0.0012 - mean_squared_error: 0.0012\n",
      "Epoch 7/20\n",
      "800/800 [==============================] - 0s 590us/step - loss: 0.0011 - mean_squared_error: 0.0011\n",
      "Epoch 8/20\n",
      "800/800 [==============================] - 1s 652us/step - loss: 0.0010 - mean_squared_error: 0.0010\n",
      "Epoch 9/20\n",
      "800/800 [==============================] - 1s 692us/step - loss: 7.8392e-04 - mean_squared_error: 7.8392e-04\n",
      "Epoch 10/20\n",
      "800/800 [==============================] - 1s 681us/step - loss: 4.9392e-04 - mean_squared_error: 4.9392e-04\n",
      "Epoch 11/20\n",
      "800/800 [==============================] - 1s 724us/step - loss: 2.9224e-04 - mean_squared_error: 2.9224e-04\n",
      "Epoch 12/20\n",
      "800/800 [==============================] - 1s 687us/step - loss: 1.6614e-04 - mean_squared_error: 1.6614e-04\n",
      "Epoch 13/20\n",
      "800/800 [==============================] - 1s 677us/step - loss: 9.3609e-05 - mean_squared_error: 9.3609e-05\n",
      "Epoch 14/20\n",
      "800/800 [==============================] - 1s 721us/step - loss: 5.9429e-05 - mean_squared_error: 5.9429e-05\n",
      "Epoch 15/20\n",
      "800/800 [==============================] - 1s 725us/step - loss: 4.2563e-05 - mean_squared_error: 4.2563e-05\n",
      "Epoch 16/20\n",
      "800/800 [==============================] - 1s 666us/step - loss: 3.3782e-05 - mean_squared_error: 3.3782e-05\n",
      "Epoch 17/20\n",
      "800/800 [==============================] - 1s 631us/step - loss: 2.9511e-05 - mean_squared_error: 2.9511e-05\n",
      "Epoch 18/20\n",
      "800/800 [==============================] - 1s 627us/step - loss: 2.7531e-05 - mean_squared_error: 2.7531e-05\n",
      "Epoch 19/20\n",
      "800/800 [==============================] - 1s 629us/step - loss: 2.6425e-05 - mean_squared_error: 2.6425e-05\n",
      "Epoch 20/20\n",
      "800/800 [==============================] - 1s 642us/step - loss: 2.6352e-05 - mean_squared_error: 2.6352e-05\n"
     ]
    }
   ],
   "source": [
    "model.compile(loss='mean_squared_error', optimizer='adam', metrics=['mean_squared_error']) \n",
    "history = model.fit(trainingSet, trainingLabels, epochs=20, batch_size=5, verbose=1)"
   ]
  },
  {
   "cell_type": "code",
   "execution_count": null,
   "id": "437d8b70",
   "metadata": {},
   "outputs": [],
   "source": [
    "test_results = model.evaluate(testingSet, testingLabels, verbose=1)\n",
    "print(f'Test results - Loss: {test_results[0]} - Accuracy: {test_results[1]}%')"
   ]
  },
  {
   "cell_type": "markdown",
   "id": "7b7c85fb",
   "metadata": {},
   "source": [
    "### Test results - Loss: 2.934691474365536e-05"
   ]
  },
  {
   "cell_type": "code",
   "execution_count": 7,
   "id": "93fd29ad",
   "metadata": {
    "scrolled": true
   },
   "outputs": [
    {
     "data": {
      "image/png": "[encoded data removed]",
      "text/plain": [
       "<Figure size 432x288 with 1 Axes>"
      ]
     },
     "metadata": {
      "needs_background": "light"
     },
     "output_type": "display_data"
    }
   ],
   "source": [
    "# summarize history for loss\n",
    "plt.plot(history.history['loss'])\n",
    "plt.title('model loss')\n",
    "plt.ylabel('loss')\n",
    "plt.xlabel('epoch')\n",
    "plt.legend(['train', 'test'], loc='upper left')\n",
    "plt.show()"
   ]
  },
  {
   "cell_type": "code",
   "execution_count": 8,
   "id": "3b166319",
   "metadata": {
    "scrolled": true
   },
   "outputs": [
    {
     "data": {
      "image/png": "[encoded data removed]",
      "text/plain": [
       "<Figure size 432x288 with 1 Axes>"
      ]
     },
     "metadata": {
      "needs_background": "light"
     },
     "output_type": "display_data"
    }
   ],
   "source": [
    "x = np.linspace(1,10,100)\n",
    "ypredict = (model.predict(x))\n",
    "y = np.log10(x)\n",
    "plt.plot(x,ypredict, 'r', ls = '-')\n",
    "plt.plot(x,y, 'b', ls = '-')\n",
    "plt.show()"
   ]
  },
  {
   "cell_type": "code",
   "execution_count": null,
   "id": "9d40d071",
   "metadata": {},
   "outputs": [],
   "source": []
  }
 ],
 "metadata": {
  "kernelspec": {
   "display_name": "Python 3 (ipykernel)",
   "language": "python",
   "name": "python3"
  },
  "language_info": {
   "codemirror_mode": {
    "name": "ipython",
    "version": 3
   },
   "file_extension": ".py",
   "mimetype": "text/x-python",
   "name": "python",
   "nbconvert_exporter": "python",
   "pygments_lexer": "ipython3",
   "version": "3.9.7"
  }
 },
 "nbformat": 4,
 "nbformat_minor": 5
}
